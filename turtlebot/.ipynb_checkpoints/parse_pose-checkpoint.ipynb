{
 "cells": [
  {
   "cell_type": "code",
   "execution_count": 3,
   "metadata": {},
   "outputs": [
    {
     "data": {
      "text/plain": [
       "['header:\\n',\n",
       " '  seq: 117456\\n',\n",
       " '  stamp:\\n',\n",
       " '    secs: 1581361735\\n',\n",
       " '    nsecs: 738599901\\n',\n",
       " '  frame_id: \"odom\"\\n',\n",
       " 'child_frame_id: \"base_footprint\"\\n',\n",
       " 'pose:\\n',\n",
       " '  pose:\\n',\n",
       " '    position:\\n',\n",
       " '      x: -0.039964966476\\n',\n",
       " '      y: -0.116246186197\\n',\n",
       " '      z: 0.0\\n',\n",
       " '    orientation:\\n',\n",
       " '      x: 0.0\\n',\n",
       " '      y: 0.0\\n',\n",
       " '      z: 0.779882967472\\n',\n",
       " '      w: 0.625925302505\\n',\n",
       " '  covariance: [0.0, 0.0, 0.0, 0.0, 0.0, 0.0, 0.0, 0.0, 0.0, 0.0, 0.0, 0.0, 0.0, 0.0, 0.0, 0.0, 0.0, 0.0, 0.0, 0.0, 0.0, 0.0, 0.0, 0.0, 0.0, 0.0, 0.0, 0.0, 0.0, 0.0, 0.0, 0.0, 0.0, 0.0, 0.0, 0.0]\\n',\n",
       " 'twist:\\n',\n",
       " '  twist:\\n',\n",
       " '    linear:\\n',\n",
       " '      x: 0.0\\n',\n",
       " '      y: 0.0\\n',\n",
       " '      z: 0.0\\n',\n",
       " '    angular:\\n',\n",
       " '      x: 0.0\\n',\n",
       " '      y: 0.0\\n',\n",
       " '      z: 7.22480535842e-06\\n',\n",
       " '  covariance: [0.0, 0.0, 0.0, 0.0, 0.0, 0.0, 0.0, 0.0, 0.0, 0.0, 0.0, 0.0, 0.0, 0.0, 0.0, 0.0, 0.0, 0.0, 0.0, 0.0, 0.0, 0.0, 0.0, 0.0, 0.0, 0.0, 0.0, 0.0, 0.0, 0.0, 0.0, 0.0, 0.0, 0.0, 0.0, 0.0]']"
      ]
     },
     "execution_count": 3,
     "metadata": {},
     "output_type": "execute_result"
    }
   ],
   "source": [
    "lines"
   ]
  },
  {
   "cell_type": "code",
   "execution_count": 41,
   "metadata": {},
   "outputs": [
    {
     "ename": "NameError",
     "evalue": "name 's' is not defined",
     "output_type": "error",
     "traceback": [
      "\u001b[0;31m---------------------------------------------------------------------------\u001b[0m",
      "\u001b[0;31mNameError\u001b[0m                                 Traceback (most recent call last)",
      "\u001b[0;32m<ipython-input-41-094e8972448c>\u001b[0m in \u001b[0;36m<module>\u001b[0;34m\u001b[0m\n\u001b[1;32m      1\u001b[0m \u001b[0;32mimport\u001b[0m \u001b[0mre\u001b[0m\u001b[0;34m\u001b[0m\u001b[0;34m\u001b[0m\u001b[0m\n\u001b[1;32m      2\u001b[0m \u001b[0;32mimport\u001b[0m \u001b[0mnumpy\u001b[0m \u001b[0;32mas\u001b[0m \u001b[0mnp\u001b[0m\u001b[0;34m\u001b[0m\u001b[0;34m\u001b[0m\u001b[0m\n\u001b[0;32m----> 3\u001b[0;31m \u001b[0ms\u001b[0m\u001b[0;34m\u001b[0m\u001b[0;34m\u001b[0m\u001b[0m\n\u001b[0m\u001b[1;32m      4\u001b[0m \u001b[0;32mglobal\u001b[0m \u001b[0mpos_x\u001b[0m\u001b[0;34m,\u001b[0m \u001b[0mpos_y\u001b[0m\u001b[0;34m,\u001b[0m \u001b[0mor_x\u001b[0m\u001b[0;34m,\u001b[0m \u001b[0mor_y\u001b[0m\u001b[0;34m,\u001b[0m \u001b[0mor_z\u001b[0m\u001b[0;34m,\u001b[0m \u001b[0mor_w\u001b[0m\u001b[0;34m\u001b[0m\u001b[0;34m\u001b[0m\u001b[0m\n\u001b[1;32m      5\u001b[0m \u001b[0;34m\u001b[0m\u001b[0m\n",
      "\u001b[0;31mNameError\u001b[0m: name 's' is not defined"
     ]
    }
   ],
   "source": [
    "import re\n",
    "import numpy as np\n",
    "\n",
    "global pos_x, pos_y, or_x, or_y, or_z, or_w\n",
    "\n",
    "def get_pose(txt_file):\n",
    "    f = open(txt_file, 'r')\n",
    "    lines = f.readlines()\n",
    "    pos_found = False\n",
    "    or_found = False\n",
    "    for i,l in enumerate(lines):\n",
    "        if ('position' in l):\n",
    "            pos_x = re.findall(\"\\d+\\.\\d+\", lines[i+1])\n",
    "            pos_y = re.findall(\"\\d+\\.\\d+\", lines[i+2])\n",
    "            pos_found = True\n",
    "        if ('orientation' in l):\n",
    "            or_x = re.findall(\"\\d+\\.\\d+\", lines[i+1])\n",
    "            or_y = re.findall(\"\\d+\\.\\d+\", lines[i+2])\n",
    "            or_z = re.findall(\"\\d+\\.\\d+\", lines[i+3])\n",
    "            or_w = re.findall(\"\\d+\\.\\d+\", lines[i+4])\n",
    "            or_found = True\n",
    "        if (pos_found and or_found):\n",
    "            break\n",
    "    \n",
    "    turtlebot_pose = np.asarray(pos_x + pos_y + or_x + or_y + or_z + or_w)"
   ]
  },
  {
   "cell_type": "code",
   "execution_count": 39,
   "metadata": {},
   "outputs": [
    {
     "name": "stdout",
     "output_type": "stream",
     "text": [
      "['0.039964966476', '0.116246186197', '0.0', '0.0', '0.779882967472', '0.625925302505']\n"
     ]
    }
   ],
   "source": [
    "get_pose('pose.txt')"
   ]
  },
  {
   "cell_type": "code",
   "execution_count": null,
   "metadata": {},
   "outputs": [],
   "source": []
  }
 ],
 "metadata": {
  "kernelspec": {
   "display_name": "Python 3",
   "language": "python",
   "name": "python3"
  },
  "language_info": {
   "codemirror_mode": {
    "name": "ipython",
    "version": 3
   },
   "file_extension": ".py",
   "mimetype": "text/x-python",
   "name": "python",
   "nbconvert_exporter": "python",
   "pygments_lexer": "ipython3",
   "version": "3.7.1"
  }
 },
 "nbformat": 4,
 "nbformat_minor": 2
}
